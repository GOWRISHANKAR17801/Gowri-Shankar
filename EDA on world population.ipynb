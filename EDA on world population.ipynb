{
 "cells": [
  {
   "cell_type": "markdown",
   "id": "5134fbd2",
   "metadata": {},
   "source": [
    "### EDA OF CURRENT  WORLD POPULATION"
   ]
  },
  {
   "cell_type": "markdown",
   "id": "ea661d3a",
   "metadata": {},
   "source": [
    "###### IMPORTING LIBRARIES"
   ]
  },
  {
   "cell_type": "code",
   "execution_count": 2,
   "id": "fc1ca064",
   "metadata": {},
   "outputs": [],
   "source": [
    "# Importing libraries\n",
    "import pandas as pd\n",
    "import numpy as np\n",
    "import seaborn as sns\n",
    "import matplotlib.pyplot as plt"
   ]
  },
  {
   "cell_type": "code",
   "execution_count": 5,
   "id": "0d028916",
   "metadata": {},
   "outputs": [
    {
     "data": {
      "text/html": [
       "<div>\n",
       "<style scoped>\n",
       "    .dataframe tbody tr th:only-of-type {\n",
       "        vertical-align: middle;\n",
       "    }\n",
       "\n",
       "    .dataframe tbody tr th {\n",
       "        vertical-align: top;\n",
       "    }\n",
       "\n",
       "    .dataframe thead th {\n",
       "        text-align: right;\n",
       "    }\n",
       "</style>\n",
       "<table border=\"1\" class=\"dataframe\">\n",
       "  <thead>\n",
       "    <tr style=\"text-align: right;\">\n",
       "      <th></th>\n",
       "      <th>Unnamed: 0</th>\n",
       "      <th>country name</th>\n",
       "      <th>current population</th>\n",
       "      <th>population 2022</th>\n",
       "      <th>area</th>\n",
       "      <th>land area</th>\n",
       "      <th>density</th>\n",
       "      <th>growth rate</th>\n",
       "      <th>world percentage</th>\n",
       "      <th>rank</th>\n",
       "    </tr>\n",
       "  </thead>\n",
       "  <tbody>\n",
       "    <tr>\n",
       "      <th>0</th>\n",
       "      <td>0</td>\n",
       "      <td>India</td>\n",
       "      <td>1423118510</td>\n",
       "      <td>1417173173</td>\n",
       "      <td>3.3M</td>\n",
       "      <td>3M</td>\n",
       "      <td>481.0</td>\n",
       "      <td>0.0081</td>\n",
       "      <td>0.1785</td>\n",
       "      <td>1</td>\n",
       "    </tr>\n",
       "    <tr>\n",
       "      <th>1</th>\n",
       "      <td>1</td>\n",
       "      <td>China</td>\n",
       "      <td>1425820141</td>\n",
       "      <td>1425887337</td>\n",
       "      <td>9.7M</td>\n",
       "      <td>9.4M</td>\n",
       "      <td>151.0</td>\n",
       "      <td>-0.0002</td>\n",
       "      <td>0.1781</td>\n",
       "      <td>2</td>\n",
       "    </tr>\n",
       "    <tr>\n",
       "      <th>2</th>\n",
       "      <td>2</td>\n",
       "      <td>United States</td>\n",
       "      <td>339231549</td>\n",
       "      <td>338289857</td>\n",
       "      <td>9.4M</td>\n",
       "      <td>9.1M</td>\n",
       "      <td>37.0</td>\n",
       "      <td>0.0050</td>\n",
       "      <td>0.0425</td>\n",
       "      <td>3</td>\n",
       "    </tr>\n",
       "    <tr>\n",
       "      <th>3</th>\n",
       "      <td>3</td>\n",
       "      <td>Indonesia</td>\n",
       "      <td>276576867</td>\n",
       "      <td>275501339</td>\n",
       "      <td>1.9M</td>\n",
       "      <td>1.9M</td>\n",
       "      <td>148.0</td>\n",
       "      <td>0.0074</td>\n",
       "      <td>0.0347</td>\n",
       "      <td>4</td>\n",
       "    </tr>\n",
       "    <tr>\n",
       "      <th>4</th>\n",
       "      <td>4</td>\n",
       "      <td>Pakistan</td>\n",
       "      <td>238517163</td>\n",
       "      <td>235824862</td>\n",
       "      <td>881.9K</td>\n",
       "      <td>770.9K</td>\n",
       "      <td>312.0</td>\n",
       "      <td>0.0198</td>\n",
       "      <td>0.0300</td>\n",
       "      <td>5</td>\n",
       "    </tr>\n",
       "    <tr>\n",
       "      <th>...</th>\n",
       "      <td>...</td>\n",
       "      <td>...</td>\n",
       "      <td>...</td>\n",
       "      <td>...</td>\n",
       "      <td>...</td>\n",
       "      <td>...</td>\n",
       "      <td>...</td>\n",
       "      <td>...</td>\n",
       "      <td>...</td>\n",
       "      <td>...</td>\n",
       "    </tr>\n",
       "    <tr>\n",
       "      <th>200</th>\n",
       "      <td>200</td>\n",
       "      <td>San Marino</td>\n",
       "      <td>33642</td>\n",
       "      <td>33660</td>\n",
       "      <td>61</td>\n",
       "      <td>60</td>\n",
       "      <td>561.0</td>\n",
       "      <td>-0.0005</td>\n",
       "      <td>0.0000</td>\n",
       "      <td>218</td>\n",
       "    </tr>\n",
       "    <tr>\n",
       "      <th>201</th>\n",
       "      <td>201</td>\n",
       "      <td>Palau</td>\n",
       "      <td>18058</td>\n",
       "      <td>18055</td>\n",
       "      <td>459</td>\n",
       "      <td>460</td>\n",
       "      <td>39.0</td>\n",
       "      <td>0.0002</td>\n",
       "      <td>0.0000</td>\n",
       "      <td>222</td>\n",
       "    </tr>\n",
       "    <tr>\n",
       "      <th>202</th>\n",
       "      <td>202</td>\n",
       "      <td>Nauru</td>\n",
       "      <td>12780</td>\n",
       "      <td>12668</td>\n",
       "      <td>21</td>\n",
       "      <td>20</td>\n",
       "      <td>639.0</td>\n",
       "      <td>0.0088</td>\n",
       "      <td>0.0000</td>\n",
       "      <td>225</td>\n",
       "    </tr>\n",
       "    <tr>\n",
       "      <th>203</th>\n",
       "      <td>203</td>\n",
       "      <td>Tuvalu</td>\n",
       "      <td>11396</td>\n",
       "      <td>11312</td>\n",
       "      <td>26</td>\n",
       "      <td>30</td>\n",
       "      <td>380.0</td>\n",
       "      <td>0.0074</td>\n",
       "      <td>0.0000</td>\n",
       "      <td>227</td>\n",
       "    </tr>\n",
       "    <tr>\n",
       "      <th>204</th>\n",
       "      <td>204</td>\n",
       "      <td>Vatican City</td>\n",
       "      <td>518</td>\n",
       "      <td>510</td>\n",
       "      <td>&lt; 1</td>\n",
       "      <td>&lt; 1</td>\n",
       "      <td>1177.0</td>\n",
       "      <td>0.0157</td>\n",
       "      <td>NaN</td>\n",
       "      <td>234</td>\n",
       "    </tr>\n",
       "  </tbody>\n",
       "</table>\n",
       "<p>205 rows × 10 columns</p>\n",
       "</div>"
      ],
      "text/plain": [
       "     Unnamed: 0   country name  current population  population 2022    area  \\\n",
       "0             0          India          1423118510       1417173173    3.3M   \n",
       "1             1          China          1425820141       1425887337    9.7M   \n",
       "2             2  United States           339231549        338289857    9.4M   \n",
       "3             3      Indonesia           276576867        275501339    1.9M   \n",
       "4             4       Pakistan           238517163        235824862  881.9K   \n",
       "..          ...            ...                 ...              ...     ...   \n",
       "200         200     San Marino               33642            33660      61   \n",
       "201         201          Palau               18058            18055     459   \n",
       "202         202          Nauru               12780            12668      21   \n",
       "203         203         Tuvalu               11396            11312      26   \n",
       "204         204   Vatican City                 518              510     < 1   \n",
       "\n",
       "    land area  density  growth rate  world percentage  rank  \n",
       "0          3M    481.0       0.0081            0.1785     1  \n",
       "1        9.4M    151.0      -0.0002            0.1781     2  \n",
       "2        9.1M     37.0       0.0050            0.0425     3  \n",
       "3        1.9M    148.0       0.0074            0.0347     4  \n",
       "4      770.9K    312.0       0.0198            0.0300     5  \n",
       "..        ...      ...          ...               ...   ...  \n",
       "200        60    561.0      -0.0005            0.0000   218  \n",
       "201       460     39.0       0.0002            0.0000   222  \n",
       "202        20    639.0       0.0088            0.0000   225  \n",
       "203        30    380.0       0.0074            0.0000   227  \n",
       "204       < 1   1177.0       0.0157               NaN   234  \n",
       "\n",
       "[205 rows x 10 columns]"
      ]
     },
     "execution_count": 5,
     "metadata": {},
     "output_type": "execute_result"
    }
   ],
   "source": [
    "df1 = pd.read_excel(\"world_population_@2023.xlsx\") #IMPORTING THE DATA FROM THE EXCEL FILES INTO JUPYTER NOTEBOOK\n",
    "df1 #by creating dataframe the datas were imported"
   ]
  },
  {
   "cell_type": "markdown",
   "id": "0686d566",
   "metadata": {},
   "source": [
    "###### Data summarization"
   ]
  },
  {
   "cell_type": "code",
   "execution_count": 6,
   "id": "6097b929",
   "metadata": {},
   "outputs": [
    {
     "name": "stdout",
     "output_type": "stream",
     "text": [
      "<class 'pandas.core.frame.DataFrame'>\n",
      "RangeIndex: 205 entries, 0 to 204\n",
      "Data columns (total 10 columns):\n",
      " #   Column              Non-Null Count  Dtype  \n",
      "---  ------              --------------  -----  \n",
      " 0   Unnamed: 0          205 non-null    int64  \n",
      " 1   country name        205 non-null    object \n",
      " 2   current population  205 non-null    int64  \n",
      " 3   population 2022     205 non-null    int64  \n",
      " 4   area                205 non-null    object \n",
      " 5   land area           205 non-null    object \n",
      " 6   density             205 non-null    float64\n",
      " 7   growth rate         205 non-null    float64\n",
      " 8   world percentage    204 non-null    float64\n",
      " 9   rank                205 non-null    int64  \n",
      "dtypes: float64(3), int64(4), object(3)\n",
      "memory usage: 16.1+ KB\n"
     ]
    }
   ],
   "source": [
    "df1.info() #By using this command we can find out the datatypes of the tables in a dataset"
   ]
  },
  {
   "cell_type": "code",
   "execution_count": 7,
   "id": "794d95ff",
   "metadata": {},
   "outputs": [
    {
     "data": {
      "text/html": [
       "<div>\n",
       "<style scoped>\n",
       "    .dataframe tbody tr th:only-of-type {\n",
       "        vertical-align: middle;\n",
       "    }\n",
       "\n",
       "    .dataframe tbody tr th {\n",
       "        vertical-align: top;\n",
       "    }\n",
       "\n",
       "    .dataframe thead th {\n",
       "        text-align: right;\n",
       "    }\n",
       "</style>\n",
       "<table border=\"1\" class=\"dataframe\">\n",
       "  <thead>\n",
       "    <tr style=\"text-align: right;\">\n",
       "      <th></th>\n",
       "      <th>Unnamed: 0</th>\n",
       "      <th>current population</th>\n",
       "      <th>population 2022</th>\n",
       "      <th>density</th>\n",
       "      <th>growth rate</th>\n",
       "      <th>world percentage</th>\n",
       "      <th>rank</th>\n",
       "    </tr>\n",
       "  </thead>\n",
       "  <tbody>\n",
       "    <tr>\n",
       "      <th>count</th>\n",
       "      <td>205.000000</td>\n",
       "      <td>2.050000e+02</td>\n",
       "      <td>2.050000e+02</td>\n",
       "      <td>205.000000</td>\n",
       "      <td>205.000000</td>\n",
       "      <td>204.000000</td>\n",
       "      <td>205.000000</td>\n",
       "    </tr>\n",
       "    <tr>\n",
       "      <th>mean</th>\n",
       "      <td>102.000000</td>\n",
       "      <td>3.907452e+07</td>\n",
       "      <td>3.888173e+07</td>\n",
       "      <td>344.059220</td>\n",
       "      <td>0.010649</td>\n",
       "      <td>0.004925</td>\n",
       "      <td>104.351220</td>\n",
       "    </tr>\n",
       "    <tr>\n",
       "      <th>std</th>\n",
       "      <td>59.322565</td>\n",
       "      <td>1.458696e+08</td>\n",
       "      <td>1.455222e+08</td>\n",
       "      <td>1482.715257</td>\n",
       "      <td>0.012776</td>\n",
       "      <td>0.018304</td>\n",
       "      <td>61.585136</td>\n",
       "    </tr>\n",
       "    <tr>\n",
       "      <th>min</th>\n",
       "      <td>0.000000</td>\n",
       "      <td>5.180000e+02</td>\n",
       "      <td>5.100000e+02</td>\n",
       "      <td>0.140000</td>\n",
       "      <td>-0.074500</td>\n",
       "      <td>0.000000</td>\n",
       "      <td>1.000000</td>\n",
       "    </tr>\n",
       "    <tr>\n",
       "      <th>25%</th>\n",
       "      <td>51.000000</td>\n",
       "      <td>1.480242e+06</td>\n",
       "      <td>1.472233e+06</td>\n",
       "      <td>35.000000</td>\n",
       "      <td>0.003100</td>\n",
       "      <td>0.000200</td>\n",
       "      <td>52.000000</td>\n",
       "    </tr>\n",
       "    <tr>\n",
       "      <th>50%</th>\n",
       "      <td>102.000000</td>\n",
       "      <td>7.590327e+06</td>\n",
       "      <td>7.529475e+06</td>\n",
       "      <td>95.000000</td>\n",
       "      <td>0.008900</td>\n",
       "      <td>0.001050</td>\n",
       "      <td>103.000000</td>\n",
       "    </tr>\n",
       "    <tr>\n",
       "      <th>75%</th>\n",
       "      <td>153.000000</td>\n",
       "      <td>2.857019e+07</td>\n",
       "      <td>2.816054e+07</td>\n",
       "      <td>235.000000</td>\n",
       "      <td>0.019200</td>\n",
       "      <td>0.003600</td>\n",
       "      <td>154.000000</td>\n",
       "    </tr>\n",
       "    <tr>\n",
       "      <th>max</th>\n",
       "      <td>204.000000</td>\n",
       "      <td>1.425820e+09</td>\n",
       "      <td>1.425887e+09</td>\n",
       "      <td>18149.000000</td>\n",
       "      <td>0.049800</td>\n",
       "      <td>0.178500</td>\n",
       "      <td>234.000000</td>\n",
       "    </tr>\n",
       "  </tbody>\n",
       "</table>\n",
       "</div>"
      ],
      "text/plain": [
       "       Unnamed: 0  current population  population 2022       density  \\\n",
       "count  205.000000        2.050000e+02     2.050000e+02    205.000000   \n",
       "mean   102.000000        3.907452e+07     3.888173e+07    344.059220   \n",
       "std     59.322565        1.458696e+08     1.455222e+08   1482.715257   \n",
       "min      0.000000        5.180000e+02     5.100000e+02      0.140000   \n",
       "25%     51.000000        1.480242e+06     1.472233e+06     35.000000   \n",
       "50%    102.000000        7.590327e+06     7.529475e+06     95.000000   \n",
       "75%    153.000000        2.857019e+07     2.816054e+07    235.000000   \n",
       "max    204.000000        1.425820e+09     1.425887e+09  18149.000000   \n",
       "\n",
       "       growth rate  world percentage        rank  \n",
       "count   205.000000        204.000000  205.000000  \n",
       "mean      0.010649          0.004925  104.351220  \n",
       "std       0.012776          0.018304   61.585136  \n",
       "min      -0.074500          0.000000    1.000000  \n",
       "25%       0.003100          0.000200   52.000000  \n",
       "50%       0.008900          0.001050  103.000000  \n",
       "75%       0.019200          0.003600  154.000000  \n",
       "max       0.049800          0.178500  234.000000  "
      ]
     },
     "execution_count": 7,
     "metadata": {},
     "output_type": "execute_result"
    }
   ],
   "source": [
    "df1.describe() #describing the data to get a statistical summary of data"
   ]
  },
  {
   "cell_type": "markdown",
   "id": "377415ea",
   "metadata": {},
   "source": [
    "###### Finding Null Values & Data Cleaning"
   ]
  },
  {
   "cell_type": "code",
   "execution_count": 8,
   "id": "8b8c9d38",
   "metadata": {},
   "outputs": [
    {
     "data": {
      "text/plain": [
       "Unnamed: 0            0\n",
       "country name          0\n",
       "current population    0\n",
       "population 2022       0\n",
       "area                  0\n",
       "land area             0\n",
       "density               0\n",
       "growth rate           0\n",
       "world percentage      1\n",
       "rank                  0\n",
       "dtype: int64"
      ]
     },
     "execution_count": 8,
     "metadata": {},
     "output_type": "execute_result"
    }
   ],
   "source": [
    "df1.isnull().sum() # Checking The Null Values"
   ]
  },
  {
   "cell_type": "code",
   "execution_count": 9,
   "id": "2262dba6",
   "metadata": {},
   "outputs": [
    {
     "data": {
      "text/html": [
       "<div>\n",
       "<style scoped>\n",
       "    .dataframe tbody tr th:only-of-type {\n",
       "        vertical-align: middle;\n",
       "    }\n",
       "\n",
       "    .dataframe tbody tr th {\n",
       "        vertical-align: top;\n",
       "    }\n",
       "\n",
       "    .dataframe thead th {\n",
       "        text-align: right;\n",
       "    }\n",
       "</style>\n",
       "<table border=\"1\" class=\"dataframe\">\n",
       "  <thead>\n",
       "    <tr style=\"text-align: right;\">\n",
       "      <th></th>\n",
       "      <th>Unnamed: 0</th>\n",
       "      <th>country name</th>\n",
       "      <th>current population</th>\n",
       "      <th>population 2022</th>\n",
       "      <th>area</th>\n",
       "      <th>land area</th>\n",
       "      <th>density</th>\n",
       "      <th>growth rate</th>\n",
       "      <th>world percentage</th>\n",
       "      <th>rank</th>\n",
       "    </tr>\n",
       "  </thead>\n",
       "  <tbody>\n",
       "    <tr>\n",
       "      <th>0</th>\n",
       "      <td>0</td>\n",
       "      <td>India</td>\n",
       "      <td>1423118510</td>\n",
       "      <td>1417173173</td>\n",
       "      <td>3.3M</td>\n",
       "      <td>3M</td>\n",
       "      <td>481.0</td>\n",
       "      <td>0.0081</td>\n",
       "      <td>0.1785</td>\n",
       "      <td>1</td>\n",
       "    </tr>\n",
       "    <tr>\n",
       "      <th>1</th>\n",
       "      <td>1</td>\n",
       "      <td>China</td>\n",
       "      <td>1425820141</td>\n",
       "      <td>1425887337</td>\n",
       "      <td>9.7M</td>\n",
       "      <td>9.4M</td>\n",
       "      <td>151.0</td>\n",
       "      <td>-0.0002</td>\n",
       "      <td>0.1781</td>\n",
       "      <td>2</td>\n",
       "    </tr>\n",
       "    <tr>\n",
       "      <th>2</th>\n",
       "      <td>2</td>\n",
       "      <td>United States</td>\n",
       "      <td>339231549</td>\n",
       "      <td>338289857</td>\n",
       "      <td>9.4M</td>\n",
       "      <td>9.1M</td>\n",
       "      <td>37.0</td>\n",
       "      <td>0.0050</td>\n",
       "      <td>0.0425</td>\n",
       "      <td>3</td>\n",
       "    </tr>\n",
       "    <tr>\n",
       "      <th>3</th>\n",
       "      <td>3</td>\n",
       "      <td>Indonesia</td>\n",
       "      <td>276576867</td>\n",
       "      <td>275501339</td>\n",
       "      <td>1.9M</td>\n",
       "      <td>1.9M</td>\n",
       "      <td>148.0</td>\n",
       "      <td>0.0074</td>\n",
       "      <td>0.0347</td>\n",
       "      <td>4</td>\n",
       "    </tr>\n",
       "    <tr>\n",
       "      <th>4</th>\n",
       "      <td>4</td>\n",
       "      <td>Pakistan</td>\n",
       "      <td>238517163</td>\n",
       "      <td>235824862</td>\n",
       "      <td>881.9K</td>\n",
       "      <td>770.9K</td>\n",
       "      <td>312.0</td>\n",
       "      <td>0.0198</td>\n",
       "      <td>0.0300</td>\n",
       "      <td>5</td>\n",
       "    </tr>\n",
       "    <tr>\n",
       "      <th>...</th>\n",
       "      <td>...</td>\n",
       "      <td>...</td>\n",
       "      <td>...</td>\n",
       "      <td>...</td>\n",
       "      <td>...</td>\n",
       "      <td>...</td>\n",
       "      <td>...</td>\n",
       "      <td>...</td>\n",
       "      <td>...</td>\n",
       "      <td>...</td>\n",
       "    </tr>\n",
       "    <tr>\n",
       "      <th>200</th>\n",
       "      <td>200</td>\n",
       "      <td>San Marino</td>\n",
       "      <td>33642</td>\n",
       "      <td>33660</td>\n",
       "      <td>61</td>\n",
       "      <td>60</td>\n",
       "      <td>561.0</td>\n",
       "      <td>-0.0005</td>\n",
       "      <td>0.0000</td>\n",
       "      <td>218</td>\n",
       "    </tr>\n",
       "    <tr>\n",
       "      <th>201</th>\n",
       "      <td>201</td>\n",
       "      <td>Palau</td>\n",
       "      <td>18058</td>\n",
       "      <td>18055</td>\n",
       "      <td>459</td>\n",
       "      <td>460</td>\n",
       "      <td>39.0</td>\n",
       "      <td>0.0002</td>\n",
       "      <td>0.0000</td>\n",
       "      <td>222</td>\n",
       "    </tr>\n",
       "    <tr>\n",
       "      <th>202</th>\n",
       "      <td>202</td>\n",
       "      <td>Nauru</td>\n",
       "      <td>12780</td>\n",
       "      <td>12668</td>\n",
       "      <td>21</td>\n",
       "      <td>20</td>\n",
       "      <td>639.0</td>\n",
       "      <td>0.0088</td>\n",
       "      <td>0.0000</td>\n",
       "      <td>225</td>\n",
       "    </tr>\n",
       "    <tr>\n",
       "      <th>203</th>\n",
       "      <td>203</td>\n",
       "      <td>Tuvalu</td>\n",
       "      <td>11396</td>\n",
       "      <td>11312</td>\n",
       "      <td>26</td>\n",
       "      <td>30</td>\n",
       "      <td>380.0</td>\n",
       "      <td>0.0074</td>\n",
       "      <td>0.0000</td>\n",
       "      <td>227</td>\n",
       "    </tr>\n",
       "    <tr>\n",
       "      <th>204</th>\n",
       "      <td>204</td>\n",
       "      <td>Vatican City</td>\n",
       "      <td>518</td>\n",
       "      <td>510</td>\n",
       "      <td>&lt; 1</td>\n",
       "      <td>&lt; 1</td>\n",
       "      <td>1177.0</td>\n",
       "      <td>0.0157</td>\n",
       "      <td>NaN</td>\n",
       "      <td>234</td>\n",
       "    </tr>\n",
       "  </tbody>\n",
       "</table>\n",
       "<p>205 rows × 10 columns</p>\n",
       "</div>"
      ],
      "text/plain": [
       "     Unnamed: 0   country name  current population  population 2022    area  \\\n",
       "0             0          India          1423118510       1417173173    3.3M   \n",
       "1             1          China          1425820141       1425887337    9.7M   \n",
       "2             2  United States           339231549        338289857    9.4M   \n",
       "3             3      Indonesia           276576867        275501339    1.9M   \n",
       "4             4       Pakistan           238517163        235824862  881.9K   \n",
       "..          ...            ...                 ...              ...     ...   \n",
       "200         200     San Marino               33642            33660      61   \n",
       "201         201          Palau               18058            18055     459   \n",
       "202         202          Nauru               12780            12668      21   \n",
       "203         203         Tuvalu               11396            11312      26   \n",
       "204         204   Vatican City                 518              510     < 1   \n",
       "\n",
       "    land area  density  growth rate  world percentage  rank  \n",
       "0          3M    481.0       0.0081            0.1785     1  \n",
       "1        9.4M    151.0      -0.0002            0.1781     2  \n",
       "2        9.1M     37.0       0.0050            0.0425     3  \n",
       "3        1.9M    148.0       0.0074            0.0347     4  \n",
       "4      770.9K    312.0       0.0198            0.0300     5  \n",
       "..        ...      ...          ...               ...   ...  \n",
       "200        60    561.0      -0.0005            0.0000   218  \n",
       "201       460     39.0       0.0002            0.0000   222  \n",
       "202        20    639.0       0.0088            0.0000   225  \n",
       "203        30    380.0       0.0074            0.0000   227  \n",
       "204       < 1   1177.0       0.0157               NaN   234  \n",
       "\n",
       "[205 rows x 10 columns]"
      ]
     },
     "execution_count": 9,
     "metadata": {},
     "output_type": "execute_result"
    }
   ],
   "source": [
    "df1.drop_duplicates() #Dropping the Duplicates"
   ]
  },
  {
   "cell_type": "code",
   "execution_count": 10,
   "id": "a85f9841",
   "metadata": {},
   "outputs": [],
   "source": [
    "df1.fillna(0,inplace = True) # repalcing the null values with the zero"
   ]
  },
  {
   "cell_type": "code",
   "execution_count": 11,
   "id": "ec8187be",
   "metadata": {},
   "outputs": [
    {
     "data": {
      "text/plain": [
       "Unnamed: 0            0\n",
       "country name          0\n",
       "current population    0\n",
       "population 2022       0\n",
       "area                  0\n",
       "land area             0\n",
       "density               0\n",
       "growth rate           0\n",
       "world percentage      0\n",
       "rank                  0\n",
       "dtype: int64"
      ]
     },
     "execution_count": 11,
     "metadata": {},
     "output_type": "execute_result"
    }
   ],
   "source": [
    "df1.isnull().sum() #Confirming there is no null values"
   ]
  },
  {
   "cell_type": "markdown",
   "id": "a95eeca3",
   "metadata": {},
   "source": [
    "###### Working with the outliers"
   ]
  },
  {
   "cell_type": "code",
   "execution_count": 12,
   "id": "d4dc74fa",
   "metadata": {},
   "outputs": [
    {
     "data": {
      "text/plain": [
       "<AxesSubplot:>"
      ]
     },
     "execution_count": 12,
     "metadata": {},
     "output_type": "execute_result"
    },
    {
     "data": {
      "image/png": "[encoded data removed]",
      "text/plain": [
       "<Figure size 432x288 with 1 Axes>"
      ]
     },
     "metadata": {
      "needs_background": "light"
     },
     "output_type": "display_data"
    }
   ],
   "source": [
    "df1.boxplot() # Checking the outlires using boxplot"
   ]
  },
  {
   "cell_type": "code",
   "execution_count": 13,
   "id": "a7b6a5cb",
   "metadata": {},
   "outputs": [
    {
     "data": {
      "text/plain": [
       "<AxesSubplot:>"
      ]
     },
     "execution_count": 13,
     "metadata": {},
     "output_type": "execute_result"
    },
    {
     "data": {
      "image/png": "[encoded data removed]",
      "text/plain": [
       "<Figure size 432x288 with 1 Axes>"
      ]
     },
     "metadata": {
      "needs_background": "light"
     },
     "output_type": "display_data"
    }
   ],
   "source": [
    "df1.boxplot(\"current population\") # Outliers in the current population column"
   ]
  },
  {
   "cell_type": "markdown",
   "id": "dbc1d895",
   "metadata": {},
   "source": [
    "###### USING IQR METHOD TO RESOLVING THE OUTLIERS"
   ]
  },
  {
   "cell_type": "code",
   "execution_count": 16,
   "id": "3c008b99",
   "metadata": {},
   "outputs": [
    {
     "data": {
      "text/plain": [
       "27089947.0"
      ]
     },
     "execution_count": 16,
     "metadata": {},
     "output_type": "execute_result"
    }
   ],
   "source": [
    "q1 = df1[\"current population\"].quantile(0.25) #Minimum vaue of the column\n",
    "q3 = df1[\"current population\"].quantile(0.75) # Maximum Value of the column\n",
    "IQR = q3 - q1\n",
    "IQR"
   ]
  },
  {
   "cell_type": "code",
   "execution_count": 18,
   "id": "73728666",
   "metadata": {},
   "outputs": [],
   "source": [
    "lower_bound  = q1-1.5*IQR\n",
    "upper_bound = q3+1.5*IQR # Checking the boundaries"
   ]
  },
  {
   "cell_type": "code",
   "execution_count": 20,
   "id": "5186130d",
   "metadata": {},
   "outputs": [],
   "source": [
    "median = df1[\"current population\"].median() #Finding the middle value to caluculate & Resolving the outliers\n",
    "df1.loc[(df1[\"current population\"] < lower_bound)  | (df1[\"current population\"] > upper_bound)] = median"
   ]
  },
  {
   "cell_type": "code",
   "execution_count": 21,
   "id": "6a7705df",
   "metadata": {},
   "outputs": [
    {
     "data": {
      "text/plain": [
       "<AxesSubplot:>"
      ]
     },
     "execution_count": 21,
     "metadata": {},
     "output_type": "execute_result"
    },
    {
     "data": {
      "image/png": "[encoded data removed]",
      "text/plain": [
       "<Figure size 432x288 with 1 Axes>"
      ]
     },
     "metadata": {
      "needs_background": "light"
     },
     "output_type": "display_data"
    }
   ],
   "source": [
    "df1.boxplot([\"current population\"]) #The unwanted outliers were removed"
   ]
  },
  {
   "cell_type": "markdown",
   "id": "a232f830",
   "metadata": {},
   "source": [
    "###### Central Tendancy Analysis"
   ]
  },
  {
   "cell_type": "code",
   "execution_count": 23,
   "id": "b64ad836",
   "metadata": {},
   "outputs": [
    {
     "name": "stdout",
     "output_type": "stream",
     "text": [
      "Unnamed: 0            7.406208e+05\n",
      "current population    1.253640e+07\n",
      "population 2022       1.245166e+07\n",
      "density               7.408410e+05\n",
      "growth rate           7.405197e+05\n",
      "world percentage      7.405197e+05\n",
      "rank                  7.406230e+05\n",
      "dtype: float64\n"
     ]
    },
    {
     "name": "stderr",
     "output_type": "stream",
     "text": [
      "C:\\Users\\LENOVO\\AppData\\Local\\Temp\\ipykernel_9492\\1183993460.py:1: FutureWarning: Dropping of nuisance columns in DataFrame reductions (with 'numeric_only=None') is deprecated; in a future version this will raise TypeError.  Select only valid columns before calling the reduction.\n",
      "  print(df1.mean())\n"
     ]
    }
   ],
   "source": [
    "print(df1.mean())"
   ]
  },
  {
   "cell_type": "code",
   "execution_count": 24,
   "id": "f3bd66bd",
   "metadata": {},
   "outputs": [
    {
     "name": "stderr",
     "output_type": "stream",
     "text": [
      "C:\\Users\\LENOVO\\AppData\\Local\\Temp\\ipykernel_9492\\2279417019.py:1: FutureWarning: Dropping of nuisance columns in DataFrame reductions (with 'numeric_only=None') is deprecated; in a future version this will raise TypeError.  Select only valid columns before calling the reduction.\n",
      "  df1.median()\n"
     ]
    },
    {
     "data": {
      "text/plain": [
       "Unnamed: 0            1.220000e+02\n",
       "current population    7.590327e+06\n",
       "population 2022       7.529475e+06\n",
       "density               1.020000e+02\n",
       "growth rate           1.090000e-02\n",
       "world percentage      1.000000e-03\n",
       "rank                  1.230000e+02\n",
       "dtype: float64"
      ]
     },
     "execution_count": 24,
     "metadata": {},
     "output_type": "execute_result"
    }
   ],
   "source": [
    "df1.median()"
   ]
  },
  {
   "cell_type": "markdown",
   "id": "0a4dbe3e",
   "metadata": {},
   "source": [
    "###### CORRELATION"
   ]
  },
  {
   "cell_type": "code",
   "execution_count": 25,
   "id": "2aaefa46",
   "metadata": {},
   "outputs": [
    {
     "data": {
      "text/html": [
       "<div>\n",
       "<style scoped>\n",
       "    .dataframe tbody tr th:only-of-type {\n",
       "        vertical-align: middle;\n",
       "    }\n",
       "\n",
       "    .dataframe tbody tr th {\n",
       "        vertical-align: top;\n",
       "    }\n",
       "\n",
       "    .dataframe thead th {\n",
       "        text-align: right;\n",
       "    }\n",
       "</style>\n",
       "<table border=\"1\" class=\"dataframe\">\n",
       "  <thead>\n",
       "    <tr style=\"text-align: right;\">\n",
       "      <th></th>\n",
       "      <th>Unnamed: 0</th>\n",
       "      <th>current population</th>\n",
       "      <th>population 2022</th>\n",
       "      <th>density</th>\n",
       "      <th>growth rate</th>\n",
       "      <th>world percentage</th>\n",
       "      <th>rank</th>\n",
       "    </tr>\n",
       "  </thead>\n",
       "  <tbody>\n",
       "    <tr>\n",
       "      <th>Unnamed: 0</th>\n",
       "      <td>1.000000</td>\n",
       "      <td>-0.105282</td>\n",
       "      <td>-0.104149</td>\n",
       "      <td>1.000000</td>\n",
       "      <td>1.000000</td>\n",
       "      <td>1.000000</td>\n",
       "      <td>1.000000</td>\n",
       "    </tr>\n",
       "    <tr>\n",
       "      <th>current population</th>\n",
       "      <td>-0.105282</td>\n",
       "      <td>1.000000</td>\n",
       "      <td>0.999800</td>\n",
       "      <td>-0.105327</td>\n",
       "      <td>-0.105263</td>\n",
       "      <td>-0.105263</td>\n",
       "      <td>-0.105283</td>\n",
       "    </tr>\n",
       "    <tr>\n",
       "      <th>population 2022</th>\n",
       "      <td>-0.104149</td>\n",
       "      <td>0.999800</td>\n",
       "      <td>1.000000</td>\n",
       "      <td>-0.104193</td>\n",
       "      <td>-0.104129</td>\n",
       "      <td>-0.104129</td>\n",
       "      <td>-0.104149</td>\n",
       "    </tr>\n",
       "    <tr>\n",
       "      <th>density</th>\n",
       "      <td>1.000000</td>\n",
       "      <td>-0.105327</td>\n",
       "      <td>-0.104193</td>\n",
       "      <td>1.000000</td>\n",
       "      <td>1.000000</td>\n",
       "      <td>1.000000</td>\n",
       "      <td>1.000000</td>\n",
       "    </tr>\n",
       "    <tr>\n",
       "      <th>growth rate</th>\n",
       "      <td>1.000000</td>\n",
       "      <td>-0.105263</td>\n",
       "      <td>-0.104129</td>\n",
       "      <td>1.000000</td>\n",
       "      <td>1.000000</td>\n",
       "      <td>1.000000</td>\n",
       "      <td>1.000000</td>\n",
       "    </tr>\n",
       "    <tr>\n",
       "      <th>world percentage</th>\n",
       "      <td>1.000000</td>\n",
       "      <td>-0.105263</td>\n",
       "      <td>-0.104129</td>\n",
       "      <td>1.000000</td>\n",
       "      <td>1.000000</td>\n",
       "      <td>1.000000</td>\n",
       "      <td>1.000000</td>\n",
       "    </tr>\n",
       "    <tr>\n",
       "      <th>rank</th>\n",
       "      <td>1.000000</td>\n",
       "      <td>-0.105283</td>\n",
       "      <td>-0.104149</td>\n",
       "      <td>1.000000</td>\n",
       "      <td>1.000000</td>\n",
       "      <td>1.000000</td>\n",
       "      <td>1.000000</td>\n",
       "    </tr>\n",
       "  </tbody>\n",
       "</table>\n",
       "</div>"
      ],
      "text/plain": [
       "                    Unnamed: 0  current population  population 2022   density  \\\n",
       "Unnamed: 0            1.000000           -0.105282        -0.104149  1.000000   \n",
       "current population   -0.105282            1.000000         0.999800 -0.105327   \n",
       "population 2022      -0.104149            0.999800         1.000000 -0.104193   \n",
       "density               1.000000           -0.105327        -0.104193  1.000000   \n",
       "growth rate           1.000000           -0.105263        -0.104129  1.000000   \n",
       "world percentage      1.000000           -0.105263        -0.104129  1.000000   \n",
       "rank                  1.000000           -0.105283        -0.104149  1.000000   \n",
       "\n",
       "                    growth rate  world percentage      rank  \n",
       "Unnamed: 0             1.000000          1.000000  1.000000  \n",
       "current population    -0.105263         -0.105263 -0.105283  \n",
       "population 2022       -0.104129         -0.104129 -0.104149  \n",
       "density                1.000000          1.000000  1.000000  \n",
       "growth rate            1.000000          1.000000  1.000000  \n",
       "world percentage       1.000000          1.000000  1.000000  \n",
       "rank                   1.000000          1.000000  1.000000  "
      ]
     },
     "execution_count": 25,
     "metadata": {},
     "output_type": "execute_result"
    }
   ],
   "source": [
    "df1.corr()"
   ]
  },
  {
   "cell_type": "code",
   "execution_count": 26,
   "id": "cc393290",
   "metadata": {},
   "outputs": [
    {
     "data": {
      "image/png": "[encoded data removed]",
      "text/plain": [
       "<Figure size 432x288 with 2 Axes>"
      ]
     },
     "metadata": {
      "needs_background": "light"
     },
     "output_type": "display_data"
    }
   ],
   "source": [
    "dataframeplot = sns.heatmap(df1.corr()) #Calculating the correlation to identify the relation with variable in a dataset\n",
    "plt.show()"
   ]
  },
  {
   "cell_type": "markdown",
   "id": "2bc3a596",
   "metadata": {},
   "source": [
    "###### Creating the Visualizations"
   ]
  },
  {
   "cell_type": "code",
   "execution_count": 28,
   "id": "692452e2",
   "metadata": {},
   "outputs": [
    {
     "name": "stderr",
     "output_type": "stream",
     "text": [
      "C:\\Users\\LENOVO\\anaconda3\\lib\\site-packages\\seaborn\\_decorators.py:36: FutureWarning: Pass the following variables as keyword args: x, y. From version 0.12, the only valid positional argument will be `data`, and passing other arguments without an explicit keyword will result in an error or misinterpretation.\n",
      "  warnings.warn(\n"
     ]
    },
    {
     "data": {
      "text/plain": [
       "<AxesSubplot:xlabel='population 2022', ylabel='current population'>"
      ]
     },
     "execution_count": 28,
     "metadata": {},
     "output_type": "execute_result"
    },
    {
     "data": {
      "image/png": "[encoded data removed]",
      "text/plain": [
       "<Figure size 432x288 with 1 Axes>"
      ]
     },
     "metadata": {
      "needs_background": "light"
     },
     "output_type": "display_data"
    }
   ],
   "source": [
    "sns.barplot(df1[\"population 2022\"],df1[\"current population\"]) # creating the bargraph visualization how the population is increasing"
   ]
  },
  {
   "cell_type": "code",
   "execution_count": 29,
   "id": "ebf4ba2b",
   "metadata": {},
   "outputs": [
    {
     "name": "stderr",
     "output_type": "stream",
     "text": [
      "C:\\Users\\LENOVO\\anaconda3\\lib\\site-packages\\seaborn\\_decorators.py:36: FutureWarning: Pass the following variables as keyword args: x, y. From version 0.12, the only valid positional argument will be `data`, and passing other arguments without an explicit keyword will result in an error or misinterpretation.\n",
      "  warnings.warn(\n"
     ]
    },
    {
     "data": {
      "text/plain": [
       "<AxesSubplot:xlabel='population 2022', ylabel='current population'>"
      ]
     },
     "execution_count": 29,
     "metadata": {},
     "output_type": "execute_result"
    },
    {
     "data": {
      "image/png": "[encoded data removed]",
      "text/plain": [
       "<Figure size 432x288 with 1 Axes>"
      ]
     },
     "metadata": {
      "needs_background": "light"
     },
     "output_type": "display_data"
    }
   ],
   "source": [
    "sns.scatterplot(df1[\"population 2022\"],df1[\"current population\"]) #Using the scatterplot to cheking the population increasing"
   ]
  },
  {
   "cell_type": "markdown",
   "id": "b3823451",
   "metadata": {},
   "source": [
    "### SUMMARY\n",
    "The data is taken from the kaggle \n",
    "\n",
    "1) Initially the data  doesn't having the Numerical Data Columns, Converted in the excel sheet and then imported into an Jupyter notebook.\n",
    "\n",
    "2)After, importing the data is summarized and the Data cleaning was done.\n",
    "\n",
    "3) Then Doing the central Tendancy Analysis.\n",
    "\n",
    "4).Creating the heatmap finding the correlation\n",
    "\n",
    "5).Then graphicall representing the populaiton increased."
   ]
  },
  {
   "cell_type": "code",
   "execution_count": null,
   "id": "f458374e",
   "metadata": {},
   "outputs": [],
   "source": []
  }
 ],
 "metadata": {
  "kernelspec": {
   "display_name": "Python 3 (ipykernel)",
   "language": "python",
   "name": "python3"
  },
  "language_info": {
   "codemirror_mode": {
    "name": "ipython",
    "version": 3
   },
   "file_extension": ".py",
   "mimetype": "text/x-python",
   "name": "python",
   "nbconvert_exporter": "python",
   "pygments_lexer": "ipython3",
   "version": "3.9.12"
  }
 },
 "nbformat": 4,
 "nbformat_minor": 5
}
